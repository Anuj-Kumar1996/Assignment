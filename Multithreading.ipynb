{
 "cells": [
  {
   "cell_type": "markdown",
   "id": "2e860f37",
   "metadata": {},
   "source": [
    " Answer -1 Multithreading in Python refers to the ability of a program to concurrently execute multiple threads of execution within the same process. By using multithreading, Python programs can take advantage of modern multi-core processors and improve the overall performance and responsiveness of the application.The threading module is commonly used to handle threads in Python. It provides a high-level interface and simplifies the creation, management, and synchronization of threads"
   ]
  },
  {
   "cell_type": "markdown",
   "id": "a339b3c5",
   "metadata": {},
   "source": [
    "why threading module used? write the use of the following functions.\n",
    "\n",
    "The threading module in Python is used to create and manage threads, which are separate flows of execution within a program. Threads allow concurrent execution of multiple tasks, enabling programs to perform multiple operations simultaneously.\n",
    "\n",
    "1. activeCount():\n",
    "The activeCount() function returns the number of Thread objects currently alive. It is used to determine the number of active threads in a program. This can be useful for monitoring the status of threads and managing concurrency.\n",
    "2. currentThread():\n",
    "The currentThread() function returns the currently executing Thread object. It is often used to obtain information about the current thread, such as its name or identification number (thread ID).\n",
    "3. enumerate():\n",
    "The enumerate() function returns a list of all Thread objects currently alive. It is useful for obtaining a list of active threads, which can then be iterated over to perform operations on each thread.\n"
   ]
  },
  {
   "cell_type": "code",
   "execution_count": 2,
   "id": "5205f746",
   "metadata": {},
   "outputs": [
    {
     "name": "stdout",
     "output_type": "stream",
     "text": [
      "6\n"
     ]
    }
   ],
   "source": [
    "import threading\n",
    "\n",
    "print(threading.activeCount())  # prints the number of active threads"
   ]
  },
  {
   "cell_type": "code",
   "execution_count": 3,
   "id": "7f17d426",
   "metadata": {},
   "outputs": [
    {
     "name": "stdout",
     "output_type": "stream",
     "text": [
      "MainThread\n",
      "4652\n"
     ]
    }
   ],
   "source": [
    "import threading\n",
    "\n",
    "current_thread = threading.currentThread()\n",
    "print(current_thread.name)  # prints the name of the current thread\n",
    "print(current_thread.ident)  # prints the ID of the current thread"
   ]
  },
  {
   "cell_type": "code",
   "execution_count": 4,
   "id": "865398c0",
   "metadata": {},
   "outputs": [
    {
     "name": "stdout",
     "output_type": "stream",
     "text": [
      "MainThread\n",
      "IOPub\n",
      "Heartbeat\n",
      "Control\n",
      "IPythonHistorySavingThread\n",
      "Thread-4\n"
     ]
    }
   ],
   "source": [
    "import threading\n",
    "\n",
    "thread_list = threading.enumerate()\n",
    "for thread in thread_list:\n",
    "    print(thread.name)  # prints the name of each active thread"
   ]
  },
  {
   "cell_type": "markdown",
   "id": "20adfdc6",
   "metadata": {},
   "source": [
    "ANSWER-#\n",
    "run():\n",
    "The run() method is the entry point for the thread's activity. When a Thread object is created, you can override its run() method with your own implementation. The code written in the run() method will be executed when the thread is started using the start() method. It's important to note that you should not call the run() method directly; instead, use the start() method to start the thread's execution.\n",
    "\n",
    "\n",
    "start():\n",
    "The start() method is used to start the execution of a thread. It creates a new thread of execution and invokes the run() method defined in the thread's class. Once the thread is started, it will run concurrently with other threads in the program.\n",
    "\n",
    "\n",
    "join():\n",
    "The join() method blocks the execution of the program until the thread on which it is called terminates. This means that the program will wait for the thread to complete its execution before proceeding further. It is useful when you want to synchronize the execution of multiple threads.\n",
    "\n",
    "isAlive():\n",
    "The isAlive() method checks whether a thread is currently executing or not. It returns a boolean value indicating the thread's status. It's useful when you want to determine if a thread is still running or has completed its execution."
   ]
  },
  {
   "cell_type": "code",
   "execution_count": 5,
   "id": "81232f1a",
   "metadata": {},
   "outputs": [
    {
     "name": "stdout",
     "output_type": "stream",
     "text": [
      "List of squares: [1, 4, 9, 16, 25, 36, 49, 64, 81, 100]\n",
      "List of cubes: [1, 8, 27, 64, 125, 216, 343, 512, 729, 1000]\n",
      "Program execution completed.\n"
     ]
    }
   ],
   "source": [
    "#Answer-4 \n",
    "\n",
    "import threading\n",
    "\n",
    "def print_squares():\n",
    "    squares = [x**2 for x in range(1, 11)]\n",
    "    print(\"List of squares:\", squares)\n",
    "\n",
    "def print_cubes():\n",
    "    cubes = [x**3 for x in range(1, 11)]\n",
    "    print(\"List of cubes:\", cubes)\n",
    "\n",
    "# Create the first thread for printing squares\n",
    "thread_squares = threading.Thread(target=print_squares)\n",
    "\n",
    "# Create the second thread for printing cubes\n",
    "thread_cubes = threading.Thread(target=print_cubes)\n",
    "\n",
    "# Start both threads\n",
    "thread_squares.start()\n",
    "thread_cubes.start()\n",
    "\n",
    "# Wait for both threads to complete\n",
    "thread_squares.join()\n",
    "thread_cubes.join()\n",
    "\n",
    "# The program will continue here after both threads finish their execution\n",
    "print(\"Program execution completed.\")\n"
   ]
  },
  {
   "cell_type": "markdown",
   "id": "5bff9ad9",
   "metadata": {},
   "source": [
    "Advantages of Multithreading:\n",
    "\n",
    "Improved Responsiveness: Multithreading allows concurrent execution of multiple tasks, leading to better responsiveness in applications. It enables programs to continue performing other operations while certain tasks, such as I/O operations or time-consuming computations, are being executed in separate threads.\n",
    "\n",
    "Enhanced Performance: By leveraging multiple threads, multithreading can improve the overall performance of an application. It enables parallelism, where different threads can execute independent tasks simultaneously, thus potentially reducing the total execution time.\n",
    "\n",
    "Efficient Resource Utilization: Multithreading enables efficient utilization of system resources, especially in systems with multiple processors or cores. It allows workload distribution across threads, maximizing the usage of available processing power.\n",
    "\n",
    "Simplified Program Design: Multithreading can simplify program design by decomposing complex tasks into smaller, manageable threads. It promotes modularization and can lead to more maintainable code.\n",
    "\n",
    "Disadvantages of Multithreading:\n",
    "\n",
    "Increased Complexity: Multithreaded programs are more complex to design, implement, and debug compared to single-threaded programs. Synchronization issues, such as race conditions and deadlocks, can arise when multiple threads access shared data concurrently. Ensuring thread safety and managing synchronization can be challenging.\n",
    "\n",
    "Debugging Difficulties: Identifying and resolving issues in multithreaded programs can be more difficult due to non-deterministic behavior. Problems like race conditions may occur sporadically, making them harder to reproduce and diagnose.\n",
    "\n",
    "Resource Contentions: When multiple threads access shared resources, conflicts can occur, leading to resource contention. This can result in decreased performance or even deadlocks if proper synchronization mechanisms are not implemented correctly.\n",
    "\n",
    "Increased Memory Overhead: Each thread in a multithreaded program requires its own stack space, which adds to the memory overhead. Creating too many threads or allocating large stack sizes for each thread can consume significant memory resources.\n",
    "\n",
    "Difficulty in Parallelizing Certain Tasks: Not all tasks can be easily parallelized or benefit from multithreading. Some tasks may have inherent dependencies or sequential nature, limiting the potential performance gains from multithreading."
   ]
  },
  {
   "cell_type": "markdown",
   "id": "059500d7",
   "metadata": {},
   "source": [
    "Deadlock:\n",
    "A deadlock is a situation where two or more threads are blocked indefinitely, waiting for each other to release resources that they hold. It happens when the threads acquire resources in such a way that they are unable to proceed because the resources they need are held by other threads.\n",
    "Race Condition:\n",
    "A race condition occurs when the behavior of a program depends on the relative timing or interleaving of multiple threads or processes accessing shared resources or variables. It arises when multiple threads access and manipulate shared data without proper synchronization, and the final outcome becomes unpredictable.\n"
   ]
  },
  {
   "cell_type": "code",
   "execution_count": null,
   "id": "3499d4cc",
   "metadata": {},
   "outputs": [],
   "source": []
  }
 ],
 "metadata": {
  "kernelspec": {
   "display_name": "Python 3 (ipykernel)",
   "language": "python",
   "name": "python3"
  },
  "language_info": {
   "codemirror_mode": {
    "name": "ipython",
    "version": 3
   },
   "file_extension": ".py",
   "mimetype": "text/x-python",
   "name": "python",
   "nbconvert_exporter": "python",
   "pygments_lexer": "ipython3",
   "version": "3.9.13"
  }
 },
 "nbformat": 4,
 "nbformat_minor": 5
}
