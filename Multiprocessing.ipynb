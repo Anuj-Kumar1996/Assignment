{
 "cells": [
  {
   "cell_type": "markdown",
   "id": "a85fd06f",
   "metadata": {},
   "source": [
    "#ANswer Multiprocessing \n",
    "in Python refers to the ability to create and manage multiple processes to execute tasks concurrently. It is a technique used to leverage the power of multiple processors or cores in a system, allowing for parallel execution of tasks.\n",
    "\n",
    "Here are some reasons why multiprocessing in Python is useful:\n",
    "\n",
    "Increased Performance: By utilizing multiple processes, multiprocessing enables parallel execution of tasks across different processors or cores. This can lead to significant performance improvements, especially for CPU-bound tasks, as the workload is distributed and executed concurrently.\n",
    "\n",
    "Efficient Resource Utilization: Multiprocessing allows you to make use of all available processors or cores in a system. This results in efficient utilization of system resources and can lead to faster execution and improved overall system performance.\n",
    "\n",
    "Improved Responsiveness: Multiprocessing can enhance the responsiveness of an application by offloading time-consuming tasks to separate processes. This prevents blocking or slowing down the main program's execution, as the tasks are performed concurrently in separate processes.\n",
    "\n",
    "Simplified Program Design: With multiprocessing, you can design your program to take advantage of parallelism by decomposing complex tasks into smaller, independent processes. This can lead to modular and maintainable code, as you can encapsulate different parts of your program logic into separate processes.\n",
    "\n",
    "Fault Isolation: Each process in multiprocessing runs in its own memory space, ensuring that a failure or error in one process does not affect others. This provides fault isolation and makes it easier to handle errors and exceptions, as they are confined to individual processes.\n",
    "\n",
    "Compatibility with External Libraries: Multiprocessing is compatible with external libraries that are designed to work with multiple processes. This allows you to integrate and benefit from various parallel computing frameworks and libraries available in Python ecosystem, such as NumPy, pandas, and scikit-learn."
   ]
  },
  {
   "cell_type": "markdown",
   "id": "8fdd75b9",
   "metadata": {},
   "source": [
    "Both Multiprocessing and Multithreading are used to increase the computing power of a system. Multiprocessing: Multiprocessing is a system that has more than one or two processors. In Multiprocessing, CPUs are added for increasing computing speed of the system. Because of Multiprocessing, There are many processes are executed simultaneously. Multiprocessing are classified into two categories:\n",
    "\n",
    "1. Symmetric Multiprocessing\n",
    "2. Asymmetric Multiprocessing "
   ]
  },
  {
   "cell_type": "markdown",
   "id": "9de2402b",
   "metadata": {},
   "source": [
    "S.NO\tMultiprocessing\tMultithreading\n",
    "1.\tIn Multiprocessing, CPUs are added for increasing computing power.\tWhile In Multithreading, many threads are created of a single process for increasing computing power.\n",
    "2.\tIn Multiprocessing, Many processes are executed simultaneously.\tWhile in multithreading, many threads of a process are executed simultaneously.\n",
    "3.\tMultiprocessing are classified into Symmetric and Asymmetric.\tWhile Multithreading is not classified in any categories.\n",
    "4.\tIn Multiprocessing, Process creation is a time-consuming process.\tWhile in Multithreading, process creation is according to economical.\n",
    "5.\tIn Multiprocessing, every process owned a separate address space.\tWhile in Multithreading, a common address space is shared by all the threads."
   ]
  },
  {
   "cell_type": "code",
   "execution_count": 1,
   "id": "e977bee3",
   "metadata": {},
   "outputs": [],
   "source": [
    "import multiprocessing\n",
    "\n",
    "def process_function(name):\n",
    "    print(f\"Hello, {name}!\")\n",
    "\n",
    "if __name__ == '__main__':\n",
    "    # Create a new process\n",
    "    process = multiprocessing.Process(target=process_function, args=('Alice',))\n",
    "\n",
    "    # Start the process\n",
    "    process.start()\n",
    "\n",
    "    # Wait for the process to finish\n",
    "    process.join()\n"
   ]
  },
  {
   "cell_type": "markdown",
   "id": "163ad4b8",
   "metadata": {},
   "source": [
    " The multiprocessing.Pool class in Python's multiprocessing module can be used for parallel execution of a function across multiple input values, distributing the input data across processes. This is known as data parallelism."
   ]
  },
  {
   "cell_type": "code",
   "execution_count": null,
   "id": "9e335538",
   "metadata": {},
   "outputs": [],
   "source": [
    "import multiprocessing\n",
    "\n",
    "def worker_function(arg):\n",
    "    # Perform the task using the input argument\n",
    "    result = arg * 2\n",
    "\n",
    "    # Return the result\n",
    "    return result\n",
    "\n",
    "if __name__ == '__main__':\n",
    "    # Create a pool of 5 worker processes\n",
    "    pool = multiprocessing.Pool(processes=5)\n",
    "\n",
    "    inputs = [1, 2, 3, 4, 5]  # List of input arguments\n",
    "    results = pool.map(worker_function, inputs)  # Apply the worker function to inputs\n",
    "\n",
    "    print(results)\n",
    "\n",
    "    pool.close()  # Close the pool\n",
    "    pool.join()  # Terminate the worker processes\n"
   ]
  },
  {
   "cell_type": "code",
   "execution_count": null,
   "id": "8a3cd30d",
   "metadata": {},
   "outputs": [],
   "source": [
    "import multiprocessing\n",
    "\n",
    "def print_number(number):\n",
    "    print(number)\n",
    "\n",
    "if __name__ == '__main__':\n",
    "    processes = []\n",
    "    numbers = [1, 2, 3, 4]\n",
    "\n",
    "    for number in numbers:\n",
    "        process = multiprocessing.Process(target=print_number, args=(number,))\n",
    "        processes.append(process)\n",
    "        process.start()\n",
    "\n",
    "    for process in processes:\n",
    "        process.join()\n"
   ]
  },
  {
   "cell_type": "code",
   "execution_count": null,
   "id": "dd8f5fa0",
   "metadata": {},
   "outputs": [],
   "source": []
  }
 ],
 "metadata": {
  "kernelspec": {
   "display_name": "Python 3 (ipykernel)",
   "language": "python",
   "name": "python3"
  },
  "language_info": {
   "codemirror_mode": {
    "name": "ipython",
    "version": 3
   },
   "file_extension": ".py",
   "mimetype": "text/x-python",
   "name": "python",
   "nbconvert_exporter": "python",
   "pygments_lexer": "ipython3",
   "version": "3.9.13"
  }
 },
 "nbformat": 4,
 "nbformat_minor": 5
}
